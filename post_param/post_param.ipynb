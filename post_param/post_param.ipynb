{
  "nbformat": 4,
  "nbformat_minor": 0,
  "metadata": {
    "colab": {
      "provenance": []
    },
    "kernelspec": {
      "name": "python3",
      "display_name": "Python 3"
    },
    "language_info": {
      "name": "python"
    }
  },
  "cells": [
    {
      "cell_type": "code",
      "execution_count": 1,
      "metadata": {
        "id": "EaFzobSaEabq",
        "colab": {
          "base_uri": "https://localhost:8080/"
        },
        "outputId": "71b50288-3eac-4d02-843f-ac7f677a2d92"
      },
      "outputs": [
        {
          "output_type": "stream",
          "name": "stdout",
          "text": [
            "param1 = bob, param2 = onestar<br><br>param1 >>> bob<br>param2 >>> onestar<br><br><br><b>bob{bob_1-star_ZZANG!!!zz}</b>\n"
          ]
        }
      ],
      "source": [
        "import requests\n",
        "\n",
        "url = \"http://bob13.onestar.life:1111/post_param.php\"\n",
        "data = {\n",
        "    'param1': 'bob',\n",
        "    'param2': 'onestar'\n",
        "}\n",
        "\n",
        "response = requests.post(url, data=data)\n",
        "\n",
        "print(response.text)"
      ]
    }
  ]
}